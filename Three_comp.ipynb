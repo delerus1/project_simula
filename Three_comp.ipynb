{
 "cells": [
  {
   "cell_type": "code",
   "execution_count": 2,
   "metadata": {},
   "outputs": [],
   "source": [
    "\n",
    "from __future__ import print_function\n",
    "from fenics import *\n",
    "from mshr import *\n",
    "import numpy as np\n",
    "\n",
    "#%matplotlib inline"
   ]
  },
  {
   "cell_type": "code",
   "execution_count": 3,
   "metadata": {},
   "outputs": [],
   "source": [
    "# Create mesh\n",
    "\n",
    "nx = 12\n",
    "ny = 12\n",
    "nz = 12\n",
    "\n",
    "mesh = UnitCubeMesh(nx,ny,nz) # 10 is number of intervals Omega is divided into"
   ]
  },
  {
   "cell_type": "code",
   "execution_count": 1,
   "metadata": {},
   "outputs": [
    {
     "ename": "NameError",
     "evalue": "name 'XDMFFile' is not defined",
     "output_type": "error",
     "traceback": [
      "\u001b[0;31m---------------------------------------------------------------------------\u001b[0m",
      "\u001b[0;31mNameError\u001b[0m                                 Traceback (most recent call last)",
      "\u001b[0;32m<ipython-input-1-b200d03bbecb>\u001b[0m in \u001b[0;36m<module>\u001b[0;34m()\u001b[0m\n\u001b[0;32m----> 1\u001b[0;31m \u001b[0mxdmffile_p1\u001b[0m \u001b[0;34m=\u001b[0m \u001b[0mXDMFFile\u001b[0m\u001b[0;34m(\u001b[0m\u001b[0mmesh\u001b[0m\u001b[0;34m.\u001b[0m\u001b[0mmpi_comm\u001b[0m\u001b[0;34m(\u001b[0m\u001b[0;34m)\u001b[0m\u001b[0;34m,\u001b[0m \u001b[0;34m'three_comp_pressure_p1.xdmf'\u001b[0m\u001b[0;34m)\u001b[0m\u001b[0;34m\u001b[0m\u001b[0m\n\u001b[0m\u001b[1;32m      2\u001b[0m \u001b[0mxdmffile_p2\u001b[0m \u001b[0;34m=\u001b[0m \u001b[0mXDMFFile\u001b[0m\u001b[0;34m(\u001b[0m\u001b[0mmesh\u001b[0m\u001b[0;34m.\u001b[0m\u001b[0mmpi_comm\u001b[0m\u001b[0;34m(\u001b[0m\u001b[0;34m)\u001b[0m\u001b[0;34m,\u001b[0m \u001b[0;34m'three_comp_pressure_p2.xdmf'\u001b[0m\u001b[0;34m)\u001b[0m\u001b[0;34m\u001b[0m\u001b[0m\n\u001b[1;32m      3\u001b[0m \u001b[0mxdmffile_p3\u001b[0m \u001b[0;34m=\u001b[0m \u001b[0mXDMFFile\u001b[0m\u001b[0;34m(\u001b[0m\u001b[0mmesh\u001b[0m\u001b[0;34m.\u001b[0m\u001b[0mmpi_comm\u001b[0m\u001b[0;34m(\u001b[0m\u001b[0;34m)\u001b[0m\u001b[0;34m,\u001b[0m \u001b[0;34m'three_comp_pressure_p3.xdmf'\u001b[0m\u001b[0;34m)\u001b[0m\u001b[0;34m\u001b[0m\u001b[0m\n\u001b[1;32m      4\u001b[0m \u001b[0;34m\u001b[0m\u001b[0m\n\u001b[1;32m      5\u001b[0m \u001b[0;34m\u001b[0m\u001b[0m\n",
      "\u001b[0;31mNameError\u001b[0m: name 'XDMFFile' is not defined"
     ]
    }
   ],
   "source": [
    "xdmffile_p1 = XDMFFile(mesh.mpi_comm(), 'three_comp_pressure_p1.xdmf')\n",
    "xdmffile_p2 = XDMFFile(mesh.mpi_comm(), 'three_comp_pressure_p2.xdmf')\n",
    "xdmffile_p3 = XDMFFile(mesh.mpi_comm(), 'three_comp_pressure_p3.xdmf')\n",
    "\n",
    "\n",
    "\n",
    "xml_mesh = File('mesh.xml')\n",
    "xml_mesh << mesh"
   ]
  },
  {
   "cell_type": "code",
   "execution_count": 5,
   "metadata": {},
   "outputs": [],
   "source": [
    "# Define function spaces. Define trial and test functions\n",
    "\n",
    "el = tetrahedron\n",
    "\n",
    "P = FiniteElement('P',el,2)\n",
    "\n",
    "\n",
    "element = MixedElement([P,P,P])\n",
    "FS = FunctionSpace(mesh,element)\n",
    "\n",
    "\n",
    "# Define test functions\n",
    "q1,q2,q3 = TestFunctions(FS)\n",
    "\n",
    "\n",
    "# Define boundaries\n",
    "inflow   = 'near(x[0], 0)'\n",
    "outflow  = 'near(x[2], 1)'\n",
    "\n",
    "\n",
    "# Define inflow profile\n",
    "inflow_profile = ('2*pi*sin(2*pi*x[1])')\n",
    "\n",
    "bcp_inflow = DirichletBC(FS.sub(0), Expression(inflow_profile, degree=2), inflow)\n",
    "bcp_outflow = DirichletBC(FS.sub(2), Constant(0), outflow)\n",
    "bcs = [bcp_inflow,bcp_outflow]\n",
    "\n",
    "\n",
    "K1 = Constant(0.5)\n",
    "K2 = Constant(0.4)\n",
    "K3 = Constant(0.3)\n",
    "\n",
    "\n",
    "f = Constant(0)\n",
    "s = Constant(0)\n",
    "\n",
    "beta12 = Constant(0.8)\n",
    "beta23 = Constant(0.8)\n",
    "\n",
    "\n",
    "p = Function(FS)\n",
    "p1, p2,p3 = split(p)\n",
    "\n",
    "\n",
    "\n",
    "F = -K1 * dot(grad(p1), grad(q1))*dx + -K2 * dot(grad(p2), grad(q2))*dx + -K3 * dot(grad(p3), grad(q3))*dx \\\n",
    "    + dot(beta12*(p1-p2),q1)*dx + dot(beta12*(p2-p1),q2)*dx + dot(beta23*(p2-p3),q2)*dx + dot(beta23*(p3-p2),q3)*dx\n",
    "    \n"
   ]
  },
  {
   "cell_type": "code",
   "execution_count": null,
   "metadata": {},
   "outputs": [],
   "source": [
    "solve(F==0, p, bcs)"
   ]
  },
  {
   "cell_type": "code",
   "execution_count": null,
   "metadata": {},
   "outputs": [],
   "source": [
    "p1,p2,p3 = p.split()\n",
    "\n",
    "xdmffile_p1.write_checkpoint(p1, 'p1')\n",
    "xdmffile_p2.write_checkpoint(p2, 'p2')\n",
    "xdmffile_p3.write_checkpoint(p3, 'p3')\n",
    "\n",
    "\n",
    "\n",
    "xdmffile_p1.close()\n",
    "xdmffile_p2.close()\n",
    "xdmffile_p3.close()"
   ]
  },
  {
   "cell_type": "code",
   "execution_count": null,
   "metadata": {},
   "outputs": [],
   "source": []
  }
 ],
 "metadata": {
  "kernelspec": {
   "display_name": "Python [default]",
   "language": "python",
   "name": "python3"
  },
  "language_info": {
   "codemirror_mode": {
    "name": "ipython",
    "version": 3
   },
   "file_extension": ".py",
   "mimetype": "text/x-python",
   "name": "python",
   "nbconvert_exporter": "python",
   "pygments_lexer": "ipython3",
   "version": "3.6.5"
  }
 },
 "nbformat": 4,
 "nbformat_minor": 2
}

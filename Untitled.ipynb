{
 "cells": [
  {
   "cell_type": "code",
   "execution_count": null,
   "metadata": {},
   "outputs": [],
   "source": [
    "from fenics import *\n",
    "\n",
    "\n",
    "def marker_modifier(markers, values, output_filename):\n",
    "    \"\"\"\n",
    "    Modifies markers for the left ventrical mesh used at the SSCP18 project\n",
    "\n",
    "    param:\n",
    "        markers: list of the Cell_id of the markers to be changed\n",
    "        values: list of the new values for the markers\n",
    "    \"\"\"\n",
    "\n",
    "    if output_filename[-4:] != 'xdmf':\n",
    "        print(\"you have to save the resulst as a xdmf file\")\n",
    "    elif output_filename == \"Files/pressure_markers.xdmf\":\n",
    "        print(\"You must choose another output_filename\")\n",
    "    else:\n",
    "\n",
    "        mesh = Mesh()\n",
    "        f =  XDMFFile(mesh.mpi_comm(),\"Files/pressure_mesh.xdmf\")\n",
    "        f.read(mesh)\n",
    "        f.close()\n",
    "\n",
    "        mf = MeshFunction(\"size_t\", mesh, \"Files/pressure_markers.xml\")\n",
    "\n",
    "        for m,v in zip(markers,values):\n",
    "            mf.array()[m] = v\n",
    "\n",
    "        xd = XDMFFile(mesh.mpi_comm(),output_filename)\n",
    "        xd.write(mf)\n",
    "        xd.close()\n",
    "        print(\"The file was created\")\n",
    "\n",
    "\n",
    "if __name__ == \"__main__\":\n",
    "    \n",
    "\n",
    "    markers = [6172,6205,6258,6260,6262,6292,6338]\n",
    "    values = [22,22,22,22,22,22,22]\n",
    "    output_filename = \"Files/modified_markers.xdmf\"\n",
    "    marker_modifier(markers=markers,values=values,output_filename=output_filename)\n"
   ]
  }
 ],
 "metadata": {
  "kernelspec": {
   "display_name": "Python [conda env:fenicsproject]",
   "language": "python",
   "name": "conda-env-fenicsproject-py"
  },
  "language_info": {
   "codemirror_mode": {
    "name": "ipython",
    "version": 3
   },
   "file_extension": ".py",
   "mimetype": "text/x-python",
   "name": "python",
   "nbconvert_exporter": "python",
   "pygments_lexer": "ipython3",
   "version": "3.6.5"
  }
 },
 "nbformat": 4,
 "nbformat_minor": 2
}

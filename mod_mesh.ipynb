{
 "cells": [
  {
   "cell_type": "code",
   "execution_count": 41,
   "metadata": {},
   "outputs": [],
   "source": [
    "from fenics import *\n",
    " \n",
    "mesh=Mesh()\n",
    "\n",
    "f = XDMFFile(mesh.mpi_comm(),\"Files/pressure_mesh.xdmf\")\n",
    "f.read(mesh)\n",
    "f.close()"
   ]
  },
  {
   "cell_type": "code",
   "execution_count": 42,
   "metadata": {},
   "outputs": [],
   "source": [
    "mf = MeshFunction(\"size_t\",mesh,\"Files/pressure_markers_mod.xml\")"
   ]
  },
  {
   "cell_type": "code",
   "execution_count": 43,
   "metadata": {},
   "outputs": [
    {
     "name": "stdout",
     "output_type": "stream",
     "text": [
      "6434\n"
     ]
    }
   ],
   "source": [
    "print(len(mf.array()))"
   ]
  },
  {
   "cell_type": "code",
   "execution_count": 44,
   "metadata": {},
   "outputs": [
    {
     "data": {
      "text/plain": [
       "[335,\n",
       " 5483,\n",
       " 5586,\n",
       " 5595,\n",
       " 5622,\n",
       " 5772,\n",
       " 5791,\n",
       " 5796,\n",
       " 5799,\n",
       " 5859,\n",
       " 5890,\n",
       " 5917,\n",
       " 5937,\n",
       " 5986,\n",
       " 5992,\n",
       " 6017,\n",
       " 6056,\n",
       " 6172,\n",
       " 6183,\n",
       " 6205,\n",
       " 6258,\n",
       " 6260,\n",
       " 6262,\n",
       " 6292,\n",
       " 6338]"
      ]
     },
     "execution_count": 44,
     "metadata": {},
     "output_type": "execute_result"
    }
   ],
   "source": [
    "mf.where_equal(1)"
   ]
  },
  {
   "cell_type": "code",
   "execution_count": 45,
   "metadata": {},
   "outputs": [],
   "source": [
    "mf.array()[335] = 666"
   ]
  },
  {
   "cell_type": "code",
   "execution_count": 46,
   "metadata": {},
   "outputs": [
    {
     "data": {
      "text/plain": [
       "[]"
      ]
     },
     "execution_count": 46,
     "metadata": {},
     "output_type": "execute_result"
    }
   ],
   "source": [
    "mf.where_equal(2)"
   ]
  },
  {
   "cell_type": "code",
   "execution_count": 47,
   "metadata": {},
   "outputs": [],
   "source": [
    "xd = XDMFFile(mesh.mpi_comm(),\"pressure_marker_mod.xdmf\")"
   ]
  },
  {
   "cell_type": "code",
   "execution_count": 48,
   "metadata": {},
   "outputs": [],
   "source": [
    "xd.write(mf)"
   ]
  },
  {
   "cell_type": "code",
   "execution_count": 49,
   "metadata": {},
   "outputs": [],
   "source": [
    "xd.close()"
   ]
  },
  {
   "cell_type": "code",
   "execution_count": null,
   "metadata": {},
   "outputs": [],
   "source": []
  }
 ],
 "metadata": {
  "kernelspec": {
   "display_name": "Python [conda env:fenicsproject]",
   "language": "python",
   "name": "conda-env-fenicsproject-py"
  },
  "language_info": {
   "codemirror_mode": {
    "name": "ipython",
    "version": 3
   },
   "file_extension": ".py",
   "mimetype": "text/x-python",
   "name": "python",
   "nbconvert_exporter": "python",
   "pygments_lexer": "ipython3",
   "version": "3.6.5"
  }
 },
 "nbformat": 4,
 "nbformat_minor": 2
}
